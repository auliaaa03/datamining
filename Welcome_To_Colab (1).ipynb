{
  "cells": [
    {
      "cell_type": "code",
      "source": [
        "import pandas as pd\n",
        "\n",
        "# path file Excel (upload dulu via Colab > files.upload())\n",
        "file_path = \"Copy of Dataset_-_Data_Penjualan_-_Kelompok_8(1).xlsx\"\n",
        "\n",
        "# load dataset\n",
        "df = pd.read_excel(file_path)\n",
        "\n",
        "# ambil sample 1500 baris (opsional, kalau datanya besar)\n",
        "# kalau tidak mau sampling, langsung pakai df saja\n",
        "df_sample = df.sample(n=1500, random_state=42) if len(df) > 1500 else df.copy()\n",
        "\n",
        "# simpan hasil sampling sebagai data mentah tahap 1\n",
        "df_sample.to_csv(\"data_raw.csv\", index=False)\n",
        "\n",
        "# tampilkan info dasar dataset\n",
        "print(\"Jumlah baris dan kolom:\", df_sample.shape)\n",
        "print(\"\\n5 data pertama:\\n\", df_sample.head())\n",
        "print(\"\\nJumlah missing tiap kolom:\\n\", df_sample.isnull().sum())\n",
        "\n",
        "print(\"\\nTahap 1 selesai! File data_raw.csv sudah dibuat.\")\n"
      ],
      "metadata": {
        "colab": {
          "base_uri": "https://localhost:8080/"
        },
        "id": "JyQ3v6g7khBU",
        "outputId": "67a64ac3-5882-47b7-8c64-867c822aafd7"
      },
      "execution_count": 3,
      "outputs": [
        {
          "output_type": "stream",
          "name": "stdout",
          "text": [
            "Jumlah baris dan kolom: (1500, 19)\n",
            "\n",
            "5 data pertama:\n",
            "       No.Faktur  Tgl Order                      Sales  \\\n",
            "654   VRD25HABKQ 2025-08-01    Abd Rahman S.T Prapani   \n",
            "76    VRD25HAAGF 2025-08-01               Syarifuddin   \n",
            "316   VRD25HAARV 2025-08-01  Alfino Hasan ( Prapani )   \n",
            "1347  VRD25HACGH 2025-08-02   Arwan Galon ( Prapani )   \n",
            "571   VRD25HABED 2025-08-01     Amiruddin ( Prapani )   \n",
            "\n",
            "                           Pelanggan  Jumlah Bruto (Rp)  Total Discount (Rp)  \\\n",
            "654           FADILLAH, Tk - GOA RIA              46008                    0   \n",
            "76             211, Tk - CENDRAWASIH             491040                    0   \n",
            "316        IBIS MAKASSAR CITY CENTER            1670000                50100   \n",
            "1347  MICHAEL KORS - MACCINI SOMBALA              55500                    0   \n",
            "571         RAFA CELL - POROS MANDAI             153270                    0   \n",
            "\n",
            "      Jumlah Netto (Rp)  Retur (Rp)   Total (Rp)   DiscD  DiscC      Tgl DO  \\\n",
            "654               46008            0        46008    0.0       0 2025-08-01   \n",
            "76               491040            0       491040    0.0       0 2025-08-02   \n",
            "316             1619900            0      1619900    0.0       0 2025-08-02   \n",
            "1347              55500            0        55500    0.0       0 2025-08-02   \n",
            "571              153270            0       153270    0.0       0 2025-08-01   \n",
            "\n",
            "         No DO                    Drive  Penagih Status Flag     Tgl FP  \\\n",
            "654   DO25HADM   Abd Rahman S.T Prapani      NaN  Lunas  NaN 2025-08-30   \n",
            "76    DO25HABI  Muh Irwandi ( Prapani )  , Johny  Lunas  NaN 2025-08-30   \n",
            "316   DO25HABB      Syahrir ( Prapani )      NaN    NaN   FP 2025-08-02   \n",
            "1347  DO25HADO  Arwan Galon ( Prapani )      NaN    NaN   FP 2025-08-30   \n",
            "571   DO25HADH    Amiruddin ( Prapani )      NaN  Lunas  NaN 2025-08-30   \n",
            "\n",
            "                No FP  \n",
            "654   005.25.71513485  \n",
            "76    005.25.71509387  \n",
            "316   005.25.71495608  \n",
            "1347  005.25.71504772  \n",
            "571   005.25.71509418  \n",
            "\n",
            "Jumlah missing tiap kolom:\n",
            " No.Faktur                 0\n",
            "Tgl Order                 0\n",
            "Sales                     0\n",
            "Pelanggan                 0\n",
            "Jumlah Bruto (Rp)         0\n",
            "Total Discount (Rp)       0\n",
            "Jumlah Netto (Rp)         0\n",
            "Retur (Rp)                0\n",
            "Total (Rp)                0\n",
            "DiscD                     0\n",
            "DiscC                     0\n",
            "Tgl DO                    0\n",
            "No DO                     0\n",
            "Drive                     0\n",
            "Penagih                1392\n",
            "Status                  497\n",
            "Flag                    834\n",
            "Tgl FP                   50\n",
            "No FP                    50\n",
            "dtype: int64\n",
            "\n",
            "Tahap 1 selesai! File data_raw.csv sudah dibuat.\n"
          ]
        }
      ]
    },
    {
      "cell_type": "code",
      "source": [
        "import pandas as pd\n",
        "\n",
        "# Load dataset hasil Tahap 1\n",
        "df = pd.read_csv(\"data_raw.csv\")\n",
        "\n",
        "# --- Integrasi Data ---\n",
        "# 1. Hapus data duplikat\n",
        "df = df.drop_duplicates()\n",
        "\n",
        "# 2. Normalisasi format huruf pada kolom 'Nama Produk'\n",
        "if \"Nama Produk\" in df.columns:\n",
        "    df[\"Nama Produk\"] = df[\"Nama Produk\"].str.strip().str.title()\n",
        "\n",
        "# 3. Konversi kolom 'Tanggal' ke format datetime (jika ada)\n",
        "if \"Tanggal\" in df.columns:\n",
        "    df[\"Tanggal\"] = pd.to_datetime(df[\"Tanggal\"], errors=\"coerce\")\n",
        "\n",
        "# Simpan hasil integrasi\n",
        "df.to_csv(\"data_integration.csv\", index=False)\n",
        "\n",
        "print(\"Tahap Integrasi selesai! File data_integration.csv sudah dibuat.\")\n"
      ],
      "metadata": {
        "collapsed": true,
        "id": "-gEmawagluox",
        "outputId": "cea35460-16b9-4f34-91b2-5b3728c5dd40",
        "colab": {
          "base_uri": "https://localhost:8080/"
        }
      },
      "execution_count": 4,
      "outputs": [
        {
          "output_type": "stream",
          "name": "stdout",
          "text": [
            "Tahap Integrasi selesai! File data_integration.csv sudah dibuat.\n"
          ]
        }
      ]
    },
    {
      "cell_type": "code",
      "source": [
        "import pandas as pd\n",
        "\n",
        "# Load data integration\n",
        "df_integration = pd.read_csv(\"data_integration.csv\")\n",
        "\n",
        "# cek 5 baris pertama untuk memastikan\n",
        "print(df_integration.head())\n"
      ],
      "metadata": {
        "id": "JhNRyxI8msK1",
        "outputId": "70fbc2ef-db31-4deb-d78e-aad89cb520d7",
        "colab": {
          "base_uri": "https://localhost:8080/"
        }
      },
      "execution_count": 15,
      "outputs": [
        {
          "output_type": "stream",
          "name": "stdout",
          "text": [
            "   No.Faktur   Tgl Order                      Sales  \\\n",
            "0  VRD25HABKQ  2025-08-01    Abd Rahman S.T Prapani   \n",
            "1  VRD25HAAGF  2025-08-01               Syarifuddin   \n",
            "2  VRD25HAARV  2025-08-01  Alfino Hasan ( Prapani )   \n",
            "3  VRD25HACGH  2025-08-02   Arwan Galon ( Prapani )   \n",
            "4  VRD25HABED  2025-08-01     Amiruddin ( Prapani )   \n",
            "\n",
            "                        Pelanggan  Jumlah Bruto (Rp)  Total Discount (Rp)  \\\n",
            "0          FADILLAH, Tk - GOA RIA              46008                    0   \n",
            "1           211, Tk - CENDRAWASIH             491040                    0   \n",
            "2       IBIS MAKASSAR CITY CENTER            1670000                50100   \n",
            "3  MICHAEL KORS - MACCINI SOMBALA              55500                    0   \n",
            "4        RAFA CELL - POROS MANDAI             153270                    0   \n",
            "\n",
            "   Jumlah Netto (Rp)  Retur (Rp)   Total (Rp)   DiscD  DiscC       Tgl DO  \\\n",
            "0              46008            0        46008    0.0       0  2025-08-01   \n",
            "1             491040            0       491040    0.0       0  2025-08-02   \n",
            "2            1619900            0      1619900    0.0       0  2025-08-02   \n",
            "3              55500            0        55500    0.0       0  2025-08-02   \n",
            "4             153270            0       153270    0.0       0  2025-08-01   \n",
            "\n",
            "      No DO                    Drive  Penagih Status Flag      Tgl FP  \\\n",
            "0  DO25HADM   Abd Rahman S.T Prapani      NaN  Lunas  NaN  2025-08-30   \n",
            "1  DO25HABI  Muh Irwandi ( Prapani )  , Johny  Lunas  NaN  2025-08-30   \n",
            "2  DO25HABB      Syahrir ( Prapani )      NaN    NaN   FP  2025-08-02   \n",
            "3  DO25HADO  Arwan Galon ( Prapani )      NaN    NaN   FP  2025-08-30   \n",
            "4  DO25HADH    Amiruddin ( Prapani )      NaN  Lunas  NaN  2025-08-30   \n",
            "\n",
            "             No FP  \n",
            "0  005.25.71513485  \n",
            "1  005.25.71509387  \n",
            "2  005.25.71495608  \n",
            "3  005.25.71504772  \n",
            "4  005.25.71509418  \n"
          ]
        }
      ]
    },
    {
      "cell_type": "code",
      "source": [
        "# --- Analisis Data ---\n",
        "\n",
        "# Total transaksi\n",
        "total_transaksi = len(df_integration)\n",
        "\n",
        "# Total nilai penjualan\n",
        "total_penjualan = df_integration[\"Total (Rp) \"].sum()\n",
        "\n",
        "# Rata-rata penjualan per transaksi\n",
        "rata_penjualan = df_integration[\"Total (Rp) \"].mean()\n",
        "\n",
        "# Penjualan per bulan\n",
        "df_integration[\"Tgl Order \"] = pd.to_datetime(df_integration[\"Tgl Order \"], errors=\"coerce\")\n",
        "penjualan_per_bulan = df_integration.groupby(df_integration[\"Tgl Order \"].dt.to_period(\"M\"))[\"Total (Rp) \"].sum()\n",
        "\n",
        "# Simpan hasil analisis ke file\n",
        "with open(\"data_analysis.txt\", \"w\") as f:\n",
        "    f.write(f\"Total transaksi: {total_transaksi}\\n\")\n",
        "    f.write(f\"Total nilai penjualan: Rp {total_penjualan:,.0f}\\n\")\n",
        "    f.write(f\"Rata-rata penjualan per transaksi: Rp {rata_penjualan:,.0f}\\n\")\n",
        "    f.write(\"\\nPenjualan per bulan:\\n\")\n",
        "    f.write(str(penjualan_per_bulan))\n",
        "\n",
        "print(\"Tahap Analisis selesai! Hasil disimpan di data_analysis.txt\")\n"
      ],
      "metadata": {
        "id": "PeayH4UVomOV",
        "outputId": "14845e26-8f91-44e6-9a77-9a5b5f46c5fc",
        "colab": {
          "base_uri": "https://localhost:8080/"
        }
      },
      "execution_count": 16,
      "outputs": [
        {
          "output_type": "stream",
          "name": "stdout",
          "text": [
            "Tahap Analisis selesai! Hasil disimpan di data_analysis.txt\n"
          ]
        }
      ]
    },
    {
      "cell_type": "code",
      "source": [
        "import pandas as pd\n",
        "\n",
        "# === Tahap Validasi Data ===\n",
        "# Load hasil dari integrasi\n",
        "df_integration = pd.read_csv(\"data_integration.csv\")\n",
        "\n",
        "print(\"Jumlah data sebelum validasi:\", len(df_integration))\n",
        "\n",
        "# 1. Cek missing value\n",
        "missing_values = df_integration.isnull().sum()\n",
        "print(\"\\nJumlah missing value per kolom:\")\n",
        "print(missing_values)\n",
        "\n",
        "# 2. Hapus baris yang mengandung missing value\n",
        "df_valid = df_integration.dropna()\n",
        "\n",
        "# 3. Hapus duplikasi data\n",
        "df_valid = df_valid.drop_duplicates()\n",
        "\n",
        "# 4. Validasi tipe data (misal: kolom 'Jumlah' dan 'Harga' harus numerik)\n",
        "if \"Jumlah\" in df_valid.columns:\n",
        "    df_valid[\"Jumlah\"] = pd.to_numeric(df_valid[\"Jumlah\"], errors=\"coerce\").fillna(0)\n",
        "\n",
        "if \"Harga\" in df_valid.columns:\n",
        "    df_valid[\"Harga\"] = pd.to_numeric(df_valid[\"Harga\"], errors=\"coerce\").fillna(0)\n",
        "\n",
        "# 5. Tambahkan kolom Total_Transaksi jika ada 'Jumlah' dan 'Harga'\n",
        "if \"Jumlah\" in df_valid.columns and \"Harga\" in df_valid.columns:\n",
        "    df_valid[\"Total_Transaksi\"] = df_valid[\"Jumlah\"] * df_valid[\"Harga\"]\n",
        "\n",
        "print(\"\\nJumlah data setelah validasi:\", len(df_valid))\n",
        "\n",
        "# Simpan hasil validasi ke file CSV\n",
        "df_valid.to_csv(\"data_validasi.csv\", index=False)\n",
        "print(\"Tahap Validasi selesai! File data_validasi.csv berhasil disimpan.\")\n"
      ],
      "metadata": {
        "id": "OLArqV3-o6Ab",
        "outputId": "17077508-e0ad-429d-b6a5-8ae3aea690af",
        "colab": {
          "base_uri": "https://localhost:8080/"
        }
      },
      "execution_count": 18,
      "outputs": [
        {
          "output_type": "stream",
          "name": "stdout",
          "text": [
            "Jumlah data sebelum validasi: 1500\n",
            "\n",
            "Jumlah missing value per kolom:\n",
            "No.Faktur                 0\n",
            "Tgl Order                 0\n",
            "Sales                     0\n",
            "Pelanggan                 0\n",
            "Jumlah Bruto (Rp)         0\n",
            "Total Discount (Rp)       0\n",
            "Jumlah Netto (Rp)         0\n",
            "Retur (Rp)                0\n",
            "Total (Rp)                0\n",
            "DiscD                     0\n",
            "DiscC                     0\n",
            "Tgl DO                    0\n",
            "No DO                     0\n",
            "Drive                     0\n",
            "Penagih                1392\n",
            "Status                  497\n",
            "Flag                    834\n",
            "Tgl FP                   50\n",
            "No FP                    50\n",
            "dtype: int64\n",
            "\n",
            "Jumlah data setelah validasi: 19\n",
            "Tahap Validasi selesai! File data_validasi.csv berhasil disimpan.\n"
          ]
        }
      ]
    }
  ],
  "metadata": {
    "colab": {
      "name": "Welcome To Colab",
      "provenance": []
    },
    "kernelspec": {
      "display_name": "Python 3",
      "name": "python3"
    }
  },
  "nbformat": 4,
  "nbformat_minor": 0
}